{
 "cells": [
  {
   "cell_type": "code",
   "execution_count": 56,
   "metadata": {
    "collapsed": true,
    "pycharm": {
     "name": "#%%\n",
     "is_executing": false
    }
   },
   "outputs": [],
   "source": [
    "'''\n",
    " Distributions by ages and genders:\n",
    "    - Incubation period                         (incubation)\n",
    "    - Infectious period                         (infectious)\n",
    "    - Home to recovery                          (home_to_rec)\n",
    "    + Illness onset to hospitalisation          (ill_to_hosp)\n",
    "    + Hospitalisation to critical               (hosp_to_cri)\n",
    "    + Hospitalisation to death                  (hosp_to_dea)\n",
    "    + Hospitalisation to recovery -severe       (hosp_to_r_s)\n",
    "    + Hospitalisation to recovery -critical     (hosp_to_r_c)\n",
    "'''\n",
    "\n",
    "from statistics_module import * \n",
    "from scipy.stats import *\n",
    "from scipy.optimize import minimize\n",
    "x0 = [0.5,2.,1]\n",
    "# data: https://www.thelancet.com/action/showPdf?pii=S1473-3099%2820%2930198-5\n",
    "#       hospitalised but moderate symptoms\n",
    "#       no severe/critical/death cases reported\n",
    "print('Age group: 0-16')\n",
    "incubation  = None\n",
    "infectious  = None\n",
    "home_to_rec = minimize(generate_lms_function(lognorm, mean=14., std=3., p5=10., p95=20.),x0).x\n",
    "ill_to_hosp = None\n",
    "hosp_to_cri = None\n",
    "hosp_to_dea = None\n",
    "hosp_to_r_s = None\n",
    "hosp_to_r_c = None\n",
    "print(incubation,infectious,home_to_rec,ill_to_hosp,hosp_to_cri,hosp_to_dea,hosp_to_r_s,hosp_to_r_c)"
   ]
  }
 ],
 "metadata": {
  "kernelspec": {
   "display_name": "Python 3",
   "language": "python",
   "name": "python3"
  },
  "language_info": {
   "codemirror_mode": {
    "name": "ipython",
    "version": 2
   },
   "file_extension": ".py",
   "mimetype": "text/x-python",
   "name": "python",
   "nbconvert_exporter": "python",
   "pygments_lexer": "ipython2",
   "version": "2.7.6"
  },
  "pycharm": {
   "stem_cell": {
    "cell_type": "raw",
    "source": [],
    "metadata": {
     "collapsed": false
    }
   }
  }
 },
 "nbformat": 4,
 "nbformat_minor": 0
}