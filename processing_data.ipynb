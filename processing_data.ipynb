{
 "cells": [
  {
   "cell_type": "code",
   "execution_count": 242,
   "metadata": {
    "collapsed": true,
    "pycharm": {
     "is_executing": false,
     "name": "#%%\n"
    }
   },
   "outputs": [
    {
     "name": "stdout",
     "text": [
      "['Japan' 'Singapore' 'South Korea' 'HK SAR']\n",
      "['South Korea']\n",
      "['Taiwan']\n",
      "173\n"
     ],
     "output_type": "stream"
    },
    {
     "data": {
      "text/plain": "    country   age  onset_to_confirm  hospit_to_decease  hospit_to_release\n11    Japan  50.0               2.0                NaN               19.0\n51    Japan  60.0               0.0                NaN                NaN\n58    Japan  50.0               0.0                NaN                NaN\n59    Japan  50.0               1.0                NaN                NaN\n62    Japan  30.0               1.0                NaN                NaN\n..      ...   ...               ...                ...                ...\n441  HK SAR  80.0               0.0                NaN                NaN\n442  HK SAR  29.0               4.0                NaN                NaN\n443  HK SAR  26.0               1.0                NaN                NaN\n444  HK SAR  70.0               0.0                NaN                NaN\n445  HK SAR  89.0               1.0                NaN                NaN\n\n[173 rows x 5 columns]",
      "text/html": "<div>\n<style scoped>\n    .dataframe tbody tr th:only-of-type {\n        vertical-align: middle;\n    }\n\n    .dataframe tbody tr th {\n        vertical-align: top;\n    }\n\n    .dataframe thead th {\n        text-align: right;\n    }\n</style>\n<table border=\"1\" class=\"dataframe\">\n  <thead>\n    <tr style=\"text-align: right;\">\n      <th></th>\n      <th>country</th>\n      <th>age</th>\n      <th>onset_to_confirm</th>\n      <th>hospit_to_decease</th>\n      <th>hospit_to_release</th>\n    </tr>\n  </thead>\n  <tbody>\n    <tr>\n      <th>11</th>\n      <td>Japan</td>\n      <td>50.0</td>\n      <td>2.0</td>\n      <td>NaN</td>\n      <td>19.0</td>\n    </tr>\n    <tr>\n      <th>51</th>\n      <td>Japan</td>\n      <td>60.0</td>\n      <td>0.0</td>\n      <td>NaN</td>\n      <td>NaN</td>\n    </tr>\n    <tr>\n      <th>58</th>\n      <td>Japan</td>\n      <td>50.0</td>\n      <td>0.0</td>\n      <td>NaN</td>\n      <td>NaN</td>\n    </tr>\n    <tr>\n      <th>59</th>\n      <td>Japan</td>\n      <td>50.0</td>\n      <td>1.0</td>\n      <td>NaN</td>\n      <td>NaN</td>\n    </tr>\n    <tr>\n      <th>62</th>\n      <td>Japan</td>\n      <td>30.0</td>\n      <td>1.0</td>\n      <td>NaN</td>\n      <td>NaN</td>\n    </tr>\n    <tr>\n      <th>...</th>\n      <td>...</td>\n      <td>...</td>\n      <td>...</td>\n      <td>...</td>\n      <td>...</td>\n    </tr>\n    <tr>\n      <th>441</th>\n      <td>HK SAR</td>\n      <td>80.0</td>\n      <td>0.0</td>\n      <td>NaN</td>\n      <td>NaN</td>\n    </tr>\n    <tr>\n      <th>442</th>\n      <td>HK SAR</td>\n      <td>29.0</td>\n      <td>4.0</td>\n      <td>NaN</td>\n      <td>NaN</td>\n    </tr>\n    <tr>\n      <th>443</th>\n      <td>HK SAR</td>\n      <td>26.0</td>\n      <td>1.0</td>\n      <td>NaN</td>\n      <td>NaN</td>\n    </tr>\n    <tr>\n      <th>444</th>\n      <td>HK SAR</td>\n      <td>70.0</td>\n      <td>0.0</td>\n      <td>NaN</td>\n      <td>NaN</td>\n    </tr>\n    <tr>\n      <th>445</th>\n      <td>HK SAR</td>\n      <td>89.0</td>\n      <td>1.0</td>\n      <td>NaN</td>\n      <td>NaN</td>\n    </tr>\n  </tbody>\n</table>\n<p>173 rows × 5 columns</p>\n</div>"
     },
     "metadata": {},
     "output_type": "execute_result",
     "execution_count": 242
    }
   ],
   "source": [
    "import numpy as np\n",
    "import pandas as pd\n",
    "from scipy import stats\n",
    "import matplotlib.pyplot as plt\n",
    "import datetime\n",
    "\n",
    "def days_between(d1, d2):\n",
    "    d1 = d1.strftime(\"%Y-%m-%d\")\n",
    "    d2 = d2.strftime(\"%Y-%m-%d\")\n",
    "    return abs((d2 - d1).days)\n",
    "\n",
    "cols1 = ['country','age','date_hospitalised','date_death','date_recovered','date_onset','date_first_consultation']\n",
    "cols2 = ['sex','birth_year','country','exposure_start','confirmed_date','released_date','deceased_date']\n",
    "cols3 = ['Age','Gender','Nationality','Symptomatic ToConfirmation','Days ToRecover']\n",
    "cols1_rename = ['country','age','hospit_date','death_date','rec_date','onset_date','confirm_date']\n",
    "cols2_rename = ['sex', 'birth_year', 'country', 'exposure_start','confirm_date','releas_date','decease_date']\n",
    "cols3_rename = ['age', 'sex', 'country', 'sympt_to_confirm', 'confirm_to_release']\n",
    "\n",
    "data1 = pd.read_csv(r\"data/subset_international_cases_2020_03_11.csv\", usecols=cols1)\n",
    "data2 = pd.read_csv(r\"data/patients.csv\", usecols=cols2)\n",
    "data3 = pd.read_csv(r\"data/data (30).csv\", usecols=cols3)\n",
    "\n",
    "data1 = data1.rename(columns={k:v for k,v in zip(cols1,cols1_rename)})\n",
    "data2 = data2.rename(columns={k:v for k,v in zip(cols2,cols2_rename)})\n",
    "data3 = data3.rename(columns={k:v for k,v in zip(cols3,cols3_rename)})\n",
    "cols1 = cols1_rename\n",
    "cols2 = cols2_rename\n",
    "cols3 = cols3_rename\n",
    "\n",
    "# data 1\n",
    "for col in cols1[2:]:\n",
    "    data1[col] = pd.to_datetime(data1[col], format='%d/%m/%Y')\n",
    "    \n",
    "data1['onset_to_confirm'] = (data1['confirm_date']-data1['onset_date']).dt.days\n",
    "data1['hospit_to_decease'] = (data1['death_date']-data1['hospit_date']).dt.days\n",
    "data1['hospit_to_release'] = (data1['rec_date']-data1['hospit_date']).dt.days\n",
    "data1 = data1.drop(columns=['hospit_date', 'death_date', 'rec_date', 'onset_date', 'confirm_date'])\n",
    "data1.loc[data1['hospit_to_decease'].notna()]\n",
    "\n",
    "# data 2\n",
    "data2['age'] = 2020 - data2['birth_year']\n",
    "for col in cols2[3:]:\n",
    "    data2[col] = pd.to_datetime(data2[col])\n",
    "data2['expose_to_confirm'] = (data2['confirm_date']-data2['exposure_start']).dt.days\n",
    "data2['confirm_to_release'] = (data2['releas_date']-data2['confirm_date']).dt.days\n",
    "data2['confirm_to_decease'] = (data2['decease_date']-data2['confirm_date']).dt.days\n",
    "data2 = data2.drop(columns=['birth_year', 'exposure_start', 'confirm_date', 'confirm_date', 'releas_date', 'decease_date'])\n",
    "data2 = data2.loc[data2['country'] == 'Korea']\n",
    "data2 = data2.replace('Korea', 'South Korea')\n",
    "\n",
    "# data 3\n",
    "data3 = data3.loc[data3['country'] == 'Taiwanese']  # in Taiwan: confirm = hospital\n",
    "data3 = data3.replace('Taiwanese', 'Taiwan')\n",
    "data3['sex'] = data3['sex'].str.lower()\n",
    "\n",
    "print(data1['country'].unique())\n",
    "print(data2['country'].unique())\n",
    "print(data3['country'].unique())\n",
    "\n",
    "data1 = data1.loc[data1['onset_to_confirm'].notna()]      # 173 cases\n",
    "# data1 = data1.loc[data1['hospit_to_release'].notna()]     # 51 cases\n",
    "# data1 = data1.loc[data1['hospit_to_decease'].notna()]     # only 6 cases\n",
    "\n",
    "data2 = data2.loc[data2['expose_to_confirm'].notna()]     # 352 cases\n",
    "# data2 = data2.loc[data2['confirm_to_release'].notna()]    # 50 cases   # in Taiwan: confirm = hospital\n",
    "# data2 = data2.loc[data2['confirm_to_decease'].notna()]    # 35 cases\n",
    "\n",
    "data3 = data3.loc[data3['sympt_to_confirm'].notna()]      # 275 cases\n",
    "# data3 = data3.loc[data3['confirm_to_release'].notna()]    # only 9 cases  # otherwise isolated\n",
    "\n",
    "print(len(data1))\n",
    "data1"
   ]
  }
 ],
 "metadata": {
  "kernelspec": {
   "display_name": "Python 3",
   "language": "python",
   "name": "python3"
  },
  "language_info": {
   "codemirror_mode": {
    "name": "ipython",
    "version": 2
   },
   "file_extension": ".py",
   "mimetype": "text/x-python",
   "name": "python",
   "nbconvert_exporter": "python",
   "pygments_lexer": "ipython2",
   "version": "2.7.6"
  },
  "pycharm": {
   "stem_cell": {
    "cell_type": "raw",
    "source": [],
    "metadata": {
     "collapsed": false
    }
   }
  }
 },
 "nbformat": 4,
 "nbformat_minor": 0
}