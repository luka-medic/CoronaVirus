{
 "cells": [
  {
   "cell_type": "code",
   "execution_count": 74,
   "metadata": {
    "collapsed": true,
    "pycharm": {
     "is_executing": false,
     "name": "#%%\n"
    }
   },
   "outputs": [
    {
     "name": "stdout",
     "text": [
      "['Japan' 'Singapore' 'South Korea' 'HK SAR']\n",
      "['South Korea']\n",
      "['Taiwan']\n"
     ],
     "output_type": "stream"
    }
   ],
   "source": [
    "import numpy as np\n",
    "import pandas as pd\n",
    "from scipy import stats\n",
    "import matplotlib.pyplot as plt\n",
    "import datetime\n",
    "\n",
    "def days_between(d1, d2):\n",
    "    d1 = d1.strftime(\"%Y-%m-%d\")\n",
    "    d2 = d2.strftime(\"%Y-%m-%d\")\n",
    "    return abs((d2 - d1).days)\n",
    "\n",
    "cols1 = ['country','age','date_hospitalised','date_death','date_recovered','date_onset','date_first_consultation']\n",
    "cols2 = ['sex','birth_year','country','exposure_start','confirmed_date','released_date','deceased_date']\n",
    "cols3 = ['Age','Gender','Nationality','Symptomatic ToConfirmation','Days ToRecover']\n",
    "cols1_rename = ['country','age','hospit_date','death_date','rec_date','onset_date','confirm_date']\n",
    "cols2_rename = ['sex', 'birth_year', 'country', 'exposure_start','confirm_date','releas_date','decease_date']\n",
    "cols3_rename = ['age', 'sex', 'country', 'sympt_to_confirm', 'confirm_to_release']\n",
    "\n",
    "data1 = pd.read_csv(r\"data/subset_international_cases_2020_03_11.csv\", usecols=cols1)\n",
    "data2 = pd.read_csv(r\"data/patients.csv\", usecols=cols2)\n",
    "data3 = pd.read_csv(r\"data/data (30).csv\", usecols=cols3)\n",
    "\n",
    "data1 = data1.rename(columns={k:v for k,v in zip(cols1,cols1_rename)})\n",
    "data2 = data2.rename(columns={k:v for k,v in zip(cols2,cols2_rename)})\n",
    "data3 = data3.rename(columns={k:v for k,v in zip(cols3,cols3_rename)})\n",
    "cols1 = cols1_rename\n",
    "cols2 = cols2_rename\n",
    "cols3 = cols3_rename\n",
    "\n",
    "# data 1\n",
    "for col in cols1[2:]:\n",
    "    data1[col] = pd.to_datetime(data1[col], format='%d/%m/%Y')\n",
    "    \n",
    "data1['onset_to_confirm'] = (data1['confirm_date']-data1['onset_date']).dt.days\n",
    "data1['hospit_to_decease'] = (data1['death_date']-data1['hospit_date']).dt.days\n",
    "data1['hospit_to_release'] = (data1['rec_date']-data1['hospit_date']).dt.days\n",
    "data1 = data1.drop(columns=['hospit_date', 'death_date', 'rec_date', 'onset_date', 'confirm_date'])\n",
    "data1.loc[data1['hospit_to_decease'].notna()]\n",
    "\n",
    "# data 2\n",
    "data2['age'] = 2020 - data2['birth_year']\n",
    "for col in cols2[3:]:\n",
    "    data2[col] = pd.to_datetime(data2[col])\n",
    "data2['expose_to_confirm'] = (data2['confirm_date']-data2['exposure_start']).dt.days\n",
    "data2['confirm_to_release'] = (data2['releas_date']-data2['confirm_date']).dt.days\n",
    "data2['confirm_to_decease'] = (data2['decease_date']-data2['confirm_date']).dt.days\n",
    "data2 = data2.drop(columns=['birth_year', 'exposure_start', 'confirm_date', 'confirm_date', 'releas_date', 'decease_date'])\n",
    "data2 = data2.loc[data2['country'] == 'Korea']\n",
    "data2 = data2.replace('Korea', 'South Korea')\n",
    "\n",
    "# data 3\n",
    "data3 = data3.loc[data3['country'] == 'Taiwanese']  # in Taiwan: confirm = hospital\n",
    "data3 = data3.replace('Taiwanese', 'Taiwan')\n",
    "data3['sex'] = data3['sex'].str.lower()\n",
    "\n",
    "print(data1['country'].unique())\n",
    "print(data2['country'].unique())\n",
    "print(data3['country'].unique())\n",
    "\n",
    "data1 = data1.loc[data1['onset_to_confirm'].notna()]      # 173 cases\n",
    "# data1 = data1.loc[data1['hospit_to_release'].notna()]     # 51 cases\n",
    "# data1 = data1.loc[data1['hospit_to_decease'].notna()]     # only 6 cases\n",
    "\n",
    "data2 = data2.loc[data2['expose_to_confirm'].notna()]     # 352 cases\n",
    "# data2 = data2.loc[data2['confirm_to_release'].notna()]    # 50 cases   # in Taiwan: confirm = hospital\n",
    "# data2 = data2.loc[data2['confirm_to_decease'].notna()]    # 35 cases\n",
    "\n",
    "data3 = data3.loc[data3['sympt_to_confirm'].notna()]      # 275 cases\n",
    "# data3 = data3.loc[data3['confirm_to_release'].notna()]    # only 9 cases  # otherwise isolated\n",
    "\n",
    "\n",
    "data2 = data2.loc[data2['expose_to_confirm'] >= 0]"
   ]
  },
  {
   "cell_type": "code",
   "execution_count": 84,
   "outputs": [
    {
     "data": {
      "text/plain": "<Figure size 432x288 with 1 Axes>",
      "image/png": "[encoded data removed]"
     },
     "metadata": {
      "needs_background": "light"
     },
     "output_type": "display_data"
    }
   ],
   "source": [
    "male = data2.loc[data2['sex'] == 'male']\n",
    "female = data2.loc[data2['sex'] == 'female']\n",
    "\n",
    "plt.title('Time from exposed to confirmed')\n",
    "plt.xlabel('days')\n",
    "plt.ylabel('number of patients')\n",
    "\n",
    "for gender, label in zip([male, female], ['male', 'female']):\n",
    "    plt.hist(gender['expose_to_confirm'], bins=np.arange(0,40,1), alpha=0.5, label=label+' ('+str(gender.size)+')')\n",
    "\n",
    "plt.legend()\n",
    "\n",
    "plt.title('Time from exposed to confirmed by gender')\n",
    "plt.xlabel('days')\n",
    "plt.ylabel('number of patients')\n",
    "plt.savefig('figures/exp_to_conf-genders.png')"
   ],
   "metadata": {
    "collapsed": false,
    "pycharm": {
     "name": "#%%\n",
     "is_executing": false
    }
   }
  },
  {
   "cell_type": "code",
   "execution_count": 82,
   "outputs": [
    {
     "name": "stdout",
     "text": [
      "(0, 25) 39\n",
      "(25, 40) 73\n",
      "(40, 60) 93\n",
      "(60, 70) 45\n",
      "(70, 200) 22\n"
     ],
     "output_type": "stream"
    },
    {
     "data": {
      "text/plain": "<Figure size 432x288 with 1 Axes>",
      "image/png": "[encoded data removed]"
     },
     "metadata": {
      "needs_background": "light"
     },
     "output_type": "display_data"
    }
   ],
   "source": [
    "from ages_module import parse_age_groups_i\n",
    "\n",
    "# age_groups = [(0,10),(10,20),(20,30),(30,40),(40,50),(50,60),(60,70),(70,200)]\n",
    "age_groups = [(0,25),(25,40),(40,60),(60,70),(70,200)]\n",
    "\n",
    "data_age_groups = []\n",
    "for age_group in age_groups:\n",
    "    this_age_group = data2['expose_to_confirm'].loc[(data2['age'] > age_group[0]) & (data2['age'] < age_group[1])]\n",
    "    data_age_groups.append(this_age_group)\n",
    "    print(age_group, this_age_group.size)\n",
    "\n",
    "data_groups = np.array(data_age_groups)\n",
    "data_age_groups_labels = parse_age_groups_i(age_groups)\n",
    "for i, label in enumerate(data_age_groups_labels):\n",
    "    data_age_groups_labels[i] = label+' ('+str(data_groups[i].size)+')'\n",
    "plt.hist(data_groups, label=data_age_groups_labels)\n",
    "\n",
    "plt.legend()\n",
    "\n",
    "plt.title('Time from exposed to confirmed by age groups')\n",
    "plt.xlabel('days')\n",
    "plt.ylabel('number of patients')\n",
    "plt.savefig('figures/exp_to_conf-agegroups.png')"
   ],
   "metadata": {
    "collapsed": false,
    "pycharm": {
     "name": "#%%\n",
     "is_executing": false
    }
   }
  },
  {
   "cell_type": "code",
   "execution_count": 155,
   "outputs": [
    {
     "name": "stdout",
     "text": [
      "[ 0  1  2  3  4  5  6  7  8  9 10 11 12 13 14 15 16 17 18 19 20 21 22]\n",
      "         rec       die\n",
      "0   0.000000  0.000000\n",
      "1   0.023333  0.010000\n",
      "2   0.060000  0.020000\n",
      "3   0.100000  0.040000\n",
      "4   0.130000  0.070000\n",
      "5   0.156667  0.080000\n",
      "6   0.193333  0.110000\n",
      "7   0.226667  0.140000\n",
      "8   0.260000  0.160000\n",
      "9   0.303333  0.190000\n",
      "10  0.343333  0.220000\n",
      "11  0.376667  0.250000\n",
      "12  0.406667  0.260000\n",
      "13  0.430000  0.280000\n",
      "14  0.460000  0.300000\n",
      "15  0.483333  0.320000\n",
      "16  0.506667  0.320000\n",
      "17  0.533333  0.340000\n",
      "18  0.556667  0.350000\n",
      "19  0.566667  0.360000\n",
      "20  0.583333  0.370000\n",
      "21  0.596667  0.370000\n",
      "22  0.600000  0.376667\n"
     ],
     "output_type": "stream"
    },
    {
     "data": {
      "text/plain": "<Figure size 432x288 with 1 Axes>",
      "image/png": "[encoded data removed]"
     },
     "metadata": {
      "needs_background": "light"
     },
     "output_type": "display_data"
    }
   ],
   "source": [
    "data4 = pd.read_csv(r\"data/survival_ICU_2.csv\")\n",
    "data4 = data4.rename(columns={k:v for k,v in zip(['day', 'percent recovered', 'percent died'],['day','rec','die'])})\n",
    "data4 = data4.loc[:, ['rec','die']] / 100\n",
    "days = np.arange(0, len(data4))\n",
    "\n",
    "print(days)\n",
    "print(data4)\n",
    "# plt.plot(days, data4['rec'], '.-', color='b')\n",
    "# plt.plot(days, 1-data4['die'], '.-', color='r')\n",
    "\n",
    "plt.fill_between(days, 1-data4['die'], np.ones_like(data4['die']), color='r', alpha=0.5, label='deceased')\n",
    "plt.fill_between(days, data4['rec'], 1-data4['die'], color='grey', alpha=0.5, label='in ICU')\n",
    "plt.fill_between(days, np.zeros_like(data4['rec']), data4['rec'], color='g', alpha=0.5, label='recovered')\n",
    "\n",
    "plt.legend()\n",
    "plt.xlabel('day')\n",
    "plt.ylabel('fraction of ICU patients')\n",
    "plt.title('ICU - recovered/deceased')\n",
    "\n",
    "plt.savefig('figures/ICU_patients.png')"
   ],
   "metadata": {
    "collapsed": false,
    "pycharm": {
     "name": "#%%\n",
     "is_executing": false
    }
   }
  }
 ],
 "metadata": {
  "kernelspec": {
   "display_name": "Python 3",
   "language": "python",
   "name": "python3"
  },
  "language_info": {
   "codemirror_mode": {
    "name": "ipython",
    "version": 2
   },
   "file_extension": ".py",
   "mimetype": "text/x-python",
   "name": "python",
   "nbconvert_exporter": "python",
   "pygments_lexer": "ipython2",
   "version": "2.7.6"
  },
  "pycharm": {
   "stem_cell": {
    "cell_type": "raw",
    "source": [],
    "metadata": {
     "collapsed": false
    }
   }
  }
 },
 "nbformat": 4,
 "nbformat_minor": 0
}